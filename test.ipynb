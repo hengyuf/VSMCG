{
 "cells": [
  {
   "cell_type": "code",
   "execution_count": null,
   "metadata": {},
   "outputs": [],
   "source": [
    "import numpy as np"
   ]
  },
  {
   "cell_type": "code",
   "execution_count": null,
   "metadata": {},
   "outputs": [],
   "source": [
    "class params: \n",
    "    def __init__(self, ):\n",
    "        self\n",
    "\n",
    "class test_sampler:\n",
    "    \"\"\"test sampler\"\"\"\n",
    "    samples = []\n",
    "    def __init__(self, params, T):\n",
    "        self.params = params\n",
    "        self.T = T \n",
    "    def sample(self, sample_num:int):\n",
    "        samples = np.zeros((self.T, sample_num))\n",
    "\n",
    "    def policy(self, rt, rt1, et1):\n",
    "        \"\"\"sampling policy\"\"\"\n",
    "        return et1 + np.random.randn()\n",
    "\n",
    "    def policy_density(self, et, rt, rt1, et1): \n",
    "        \"\"\"pdf of policy\"\"\"\n",
    "        return np.exp(-(et-et1)**2/2)      "
   ]
  }
 ],
 "metadata": {
  "language_info": {
   "name": "python"
  }
 },
 "nbformat": 4,
 "nbformat_minor": 2
}
