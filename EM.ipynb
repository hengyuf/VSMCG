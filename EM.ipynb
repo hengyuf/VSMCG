{
 "cells": [
  {
   "cell_type": "code",
   "execution_count": 1,
   "metadata": {},
   "outputs": [],
   "source": [
    "import numpy as np\n",
    "\n",
    "class Data_generator:\n",
    "    def __init__(self, _alpha_r=0, _beta_r=1, _d=1, _alpha_u=0, _beta_u=1, _gamma=1, _theta=0, __lambda=1):\n",
    "        self.alpha_r = _alpha_r\n",
    "        self.beta_r = _beta_r\n",
    "        self.d = _d\n",
    "        self.alpha_u = _alpha_u\n",
    "        self.beta_u = _beta_u\n",
    "        self.gamma = _gamma\n",
    "        self.theta = _theta\n",
    "        self._lambda = __lambda\n",
    "\n",
    "    def gen_data(self, n=1000, T=100):\n",
    "        r=np.zeros((T,n)) #r yield\n",
    "        eps=np.zeros(n)\n",
    "        u=np.zeros(n)\n",
    "        for i in range(T):\n",
    "            u = self.alpha_u+self.beta_u*u+self.gamma*eps**2+self.theta*np.where(eps<0,eps**2,0)+np.random.exponential(scale=1/self._lambda,size=n)\n",
    "            eps=np.random.standard_t(df=self.d, size=n)*np.sqrt(u)\n",
    "            r[i]=self.alpha_r+self.beta_r*u+eps\n",
    "        return r\n",
    "    \n",
    "    def gen_data_full(self, n=1000, T=100):\n",
    "        r=np.zeros((T,n)) #r yield\n",
    "        eps_list=np.zeros((T,n))\n",
    "        u_list=np.zeros((T,n))\n",
    "        u=np.zeros(n)\n",
    "        eps=np.zeros(n)\n",
    "        for i in range(T):\n",
    "            u = self.alpha_u+self.beta_u*u+self.gamma*eps**2+self.theta*np.where(eps<0,eps**2,0)+np.random.exponential(scale=1/self._lambda,size=n)\n",
    "            eps=np.random.standard_t(df=self.d, size=n)*np.sqrt(u)\n",
    "            u_list[i]=u\n",
    "            eps_list[i]=eps\n",
    "            r[i]=self.alpha_r+self.beta_r*u+eps\n",
    "        return r, u_list, eps_list\n",
    "\n"
   ]
  },
  {
   "cell_type": "code",
   "execution_count": 16,
   "metadata": {},
   "outputs": [
    {
     "ename": "TypeError",
     "evalue": "unsupported operand type(s) for *: 'float' and 'NoneType'",
     "output_type": "error",
     "traceback": [
      "\u001b[1;31m---------------------------------------------------------------------------\u001b[0m",
      "\u001b[1;31mTypeError\u001b[0m                                 Traceback (most recent call last)",
      "Cell \u001b[1;32mIn[16], line 30\u001b[0m\n\u001b[0;32m     24\u001b[0m                 param\u001b[38;5;241m.\u001b[39mgrad\u001b[38;5;241m.\u001b[39mzero_()\n\u001b[0;32m     29\u001b[0m EM_sampler\u001b[38;5;241m=\u001b[39mEM(\u001b[38;5;241m10\u001b[39m,\u001b[38;5;241m0.2\u001b[39m, \u001b[38;5;241m0.2\u001b[39m, \u001b[38;5;241m6.0\u001b[39m, \u001b[38;5;241m0.6\u001b[39m, \u001b[38;5;241m0.4\u001b[39m, \u001b[38;5;241m0.1\u001b[39m, \u001b[38;5;241m0.02\u001b[39m, \u001b[38;5;241m2.5\u001b[39m)\n\u001b[1;32m---> 30\u001b[0m \u001b[43mEM_sampler\u001b[49m\u001b[38;5;241;43m.\u001b[39;49m\u001b[43mupd_param\u001b[49m\u001b[43m(\u001b[49m\u001b[43m)\u001b[49m\n",
      "Cell \u001b[1;32mIn[16], line 23\u001b[0m, in \u001b[0;36mEM.upd_param\u001b[1;34m(self, lr)\u001b[0m\n\u001b[0;32m     21\u001b[0m \u001b[38;5;28;01mwith\u001b[39;00m torch\u001b[38;5;241m.\u001b[39mno_grad():\n\u001b[0;32m     22\u001b[0m     \u001b[38;5;28;01mfor\u001b[39;00m param \u001b[38;5;129;01min\u001b[39;00m \u001b[38;5;28mself\u001b[39m\u001b[38;5;241m.\u001b[39mparameters:\n\u001b[1;32m---> 23\u001b[0m         param \u001b[38;5;241m-\u001b[39m\u001b[38;5;241m=\u001b[39m \u001b[43mlr\u001b[49m\u001b[43m \u001b[49m\u001b[38;5;241;43m*\u001b[39;49m\u001b[43m \u001b[49m\u001b[43mparam\u001b[49m\u001b[38;5;241;43m.\u001b[39;49m\u001b[43mgrad\u001b[49m\n\u001b[0;32m     24\u001b[0m         param\u001b[38;5;241m.\u001b[39mgrad\u001b[38;5;241m.\u001b[39mzero_()\n",
      "\u001b[1;31mTypeError\u001b[0m: unsupported operand type(s) for *: 'float' and 'NoneType'"
     ]
    }
   ],
   "source": [
    "import torch\n",
    "\n",
    "class EM:\n",
    "    def __init__(self, T, _alpha_r=0, _beta_r=1, _d=1, _alpha_u=0, _beta_u=1, _gamma=1, _theta=0, __lambda=1):\n",
    "        self.alpha_r = torch.tensor(_alpha_r, dtype=torch.float32, requires_grad=True)\n",
    "        self.beta_r = torch.tensor(_beta_r, dtype=torch.float32, requires_grad=True)\n",
    "        self.alpha_u = torch.tensor(_alpha_u, dtype=torch.float32, requires_grad=True)\n",
    "        self.beta_u = torch.tensor(_beta_u, dtype=torch.float32, requires_grad=True)\n",
    "        self.gamma = torch.tensor(_gamma, dtype=torch.float32, requires_grad=True)\n",
    "        self.theta = torch.tensor(_theta, dtype=torch.float32, requires_grad=True)\n",
    "        self._lambda = torch.tensor(__lambda, dtype=torch.float32, requires_grad=True)\n",
    "        self.d = torch.tensor(_d, dtype=torch.float32, requires_grad=True)\n",
    "        self.parameters=[self.alpha_r, self.beta_r, self.alpha_u, self.beta_u, self.gamma, self.theta, self._lambda, self.d]\n",
    "        self.T=T\n",
    "    def call_sampler(self,n):\n",
    "        return torch.randn(n), torch.randn(n,self.T)\n",
    "    def load_data(self):\n",
    "        DG = Data_generator(0.2, 0.2, 6.0, 0.6, 0.4, 0.1, 0.02, 2.5)\n",
    "        self.r=torch.tensor(DG.gen_data(1, self.T))\n",
    "    def upd_param(self,lr=0.01):\n",
    "        with torch.no_grad():\n",
    "            for param in self.parameters:\n",
    "                param -= lr * param.grad #check + or -\n",
    "                param.grad.zero_()\n",
    "    def singularlikelihood(self,epsilon):\n",
    "        #calculate log-likelihood of each set of epsilon, (n,T) -> (n,)\n",
    "        return torch.randn(epsilon.shape[0])\n",
    "    def log_total(self):\n",
    "        n=10\n",
    "        weights,epsilon=self.call_sampler(n)\n",
    "        likelihood=self.singularlikelihood(epsilon)\n",
    "        normed=likelihood-torch.sum(likelihood).item()/n+torch.log(weights) #item for ungraded normalization\n",
    "        return torch.log(torch.sum(torch.exp(normed)))\n",
    "    def calc_grad(self):\n",
    "        likelihood=self.log_total(self)\n",
    "        \n",
    "\n",
    "    \n",
    "    \n",
    "\n",
    "EM_sampler=EM(10,0.2, 0.2, 6.0, 0.6, 0.4, 0.1, 0.02, 2.5)\n",
    "EM_sampler.upd_param()"
   ]
  }
 ],
 "metadata": {
  "kernelspec": {
   "display_name": "Python 3",
   "language": "python",
   "name": "python3"
  },
  "language_info": {
   "codemirror_mode": {
    "name": "ipython",
    "version": 3
   },
   "file_extension": ".py",
   "mimetype": "text/x-python",
   "name": "python",
   "nbconvert_exporter": "python",
   "pygments_lexer": "ipython3",
   "version": "3.10.7"
  }
 },
 "nbformat": 4,
 "nbformat_minor": 2
}
